{
 "cells": [
  {
   "cell_type": "markdown",
   "metadata": {},
   "source": [
    "## Модель"
   ]
  },
  {
   "cell_type": "code",
   "execution_count": 1,
   "metadata": {},
   "outputs": [],
   "source": [
    "import pandas as pd\n",
    "import numpy as np\n",
    "import collections\n",
    "from surprise import Reader, Dataset, SVD, accuracy, KNNBasic\n",
    "from surprise.model_selection import train_test_split\n",
    "import pickle"
   ]
  },
  {
   "cell_type": "code",
   "execution_count": null,
   "metadata": {},
   "outputs": [],
   "source": [
    "ratings = pd.read_csv(\"../final_data/vydacha_rated.csv\", usecols=[\"Штрих-код\", \"ИД читателя\", \"rating\"])\n",
    "ratings.rename({\"Штрих-код\": \"itemid\", \"ИД читателя\": \"userid\"}, inplace=True, axis=1)\n",
    "# ratings[\"rating\"] = 1.0\n",
    "ratings.tail()"
   ]
  },
  {
   "cell_type": "code",
   "execution_count": null,
   "metadata": {},
   "outputs": [],
   "source": [
    "ratings.rename({\"Штрих-код\": \"itemid\", \"ИД читателя\": \"userid\"}, inplace=True, axis=1)"
   ]
  },
  {
   "cell_type": "code",
   "execution_count": null,
   "metadata": {},
   "outputs": [],
   "source": [
    "ratings.fillna(0, inplace=True)"
   ]
  },
  {
   "cell_type": "code",
   "execution_count": null,
   "metadata": {},
   "outputs": [],
   "source": [
    "count = collections.Counter(ratings.userid)"
   ]
  },
  {
   "cell_type": "code",
   "execution_count": null,
   "metadata": {},
   "outputs": [],
   "source": [
    "len(count)"
   ]
  },
  {
   "cell_type": "code",
   "execution_count": null,
   "metadata": {},
   "outputs": [],
   "source": [
    "reader = Reader(rating_scale=(0, 1))"
   ]
  },
  {
   "cell_type": "code",
   "execution_count": null,
   "metadata": {},
   "outputs": [],
   "source": [
    "data = Dataset.load_from_df(ratings, reader)\n",
    "trainset, testset = train_test_split(data, test_size=.25)"
   ]
  },
  {
   "cell_type": "code",
   "execution_count": null,
   "metadata": {},
   "outputs": [],
   "source": [
    "algo = SVD(verbose=True)\n",
    "# algo = KNNBasic(verbose=True)"
   ]
  },
  {
   "cell_type": "code",
   "execution_count": null,
   "metadata": {},
   "outputs": [],
   "source": [
    "algo.fit(trainset)"
   ]
  },
  {
   "cell_type": "code",
   "execution_count": null,
   "metadata": {},
   "outputs": [],
   "source": [
    "predictions = algo.test(testset)"
   ]
  },
  {
   "cell_type": "code",
   "execution_count": null,
   "metadata": {},
   "outputs": [],
   "source": [
    "# Then compute RMSE\n",
    "accuracy.rmse(predictions)"
   ]
  },
  {
   "cell_type": "markdown",
   "metadata": {},
   "source": [
    "### Train on full dataset"
   ]
  },
  {
   "cell_type": "code",
   "execution_count": null,
   "metadata": {},
   "outputs": [],
   "source": [
    "X = data.build_full_trainset()"
   ]
  },
  {
   "cell_type": "code",
   "execution_count": null,
   "metadata": {},
   "outputs": [],
   "source": [
    "algo = SVD(verbose=True)"
   ]
  },
  {
   "cell_type": "code",
   "execution_count": null,
   "metadata": {},
   "outputs": [],
   "source": [
    "algo.fit(X)"
   ]
  },
  {
   "cell_type": "code",
   "execution_count": null,
   "metadata": {},
   "outputs": [],
   "source": [
    "with open(\"recom_model.pickle\",\"wb\") as pickle_out:\n",
    "    pickle.dump(algo, pickle_out)"
   ]
  },
  {
   "cell_type": "code",
   "execution_count": null,
   "metadata": {},
   "outputs": [],
   "source": [
    "algo.compute_similarities()"
   ]
  },
  {
   "cell_type": "code",
   "execution_count": null,
   "metadata": {},
   "outputs": [],
   "source": [
    "ratings[ratings[\"userid\"] == 24001]"
   ]
  },
  {
   "cell_type": "code",
   "execution_count": null,
   "metadata": {},
   "outputs": [],
   "source": [
    "ratings.head(3)"
   ]
  },
  {
   "cell_type": "code",
   "execution_count": null,
   "metadata": {},
   "outputs": [],
   "source": [
    "algo.predict(uid=24001, iid=381000177719, verbose=True)"
   ]
  },
  {
   "cell_type": "markdown",
   "metadata": {},
   "source": [
    "## Рекомендация книг для пользователей"
   ]
  },
  {
   "cell_type": "code",
   "execution_count": 2,
   "metadata": {},
   "outputs": [],
   "source": [
    "from multiprocessing import Pool\n",
    "import functools"
   ]
  },
  {
   "cell_type": "code",
   "execution_count": 3,
   "metadata": {},
   "outputs": [],
   "source": [
    "# ratings2 = pd.read_csv(\n",
    "#     \"../final_data/vydacha_rated.csv\",\n",
    "#     usecols=[\n",
    "#         \"ИД читателя\",\n",
    "#         \"Штрих-код\",\n",
    "#         \"doc_id\",\n",
    "#         \"p100a\",\n",
    "#         \"p245a\",\n",
    "#         \"p650a\",\n",
    "#         \"p521a\",\n",
    "#         \"rating\",\n",
    "#     ],\n",
    "# )"
   ]
  },
  {
   "cell_type": "code",
   "execution_count": 4,
   "metadata": {},
   "outputs": [],
   "source": [
    "# ratings.rename(\n",
    "#     {\n",
    "#         \"Штрих-код\": \"itemid\",\n",
    "#         \"ИД читателя\": \"userid\",\n",
    "#         \"p100a\": \"author\",\n",
    "#         \"p245a\": \"title\",\n",
    "#         \"p650a\": \"category\",\n",
    "#         \"p521a\": \"age\"\n",
    "#     },\n",
    "#     inplace=True,\n",
    "#     axis=1,\n",
    "# )"
   ]
  },
  {
   "cell_type": "code",
   "execution_count": 5,
   "metadata": {},
   "outputs": [],
   "source": [
    "# database = ratings.drop_duplicates(subset=[\"doc_id\"]).copy()\n",
    "# database[[\"age\"]] = temp[[\"age\"]].fillna(value=\"0+\").copy()\n",
    "# books = database.itemid.values.copy()\n",
    "\n",
    "# database[\"age\"].unique()\n",
    "\n",
    "# database[\"age_cat\"] = (\n",
    "#     database[\"age\"]\n",
    "#     .map(\n",
    "#         {\n",
    "#             \"0+\": 0,\n",
    "#             \"16+\": 16,\n",
    "#             \"12+\": 12,\n",
    "#             \"18+\": 18,\n",
    "#             \"6+\": 6,\n",
    "#             \"16+ ; 18+\": 16,\n",
    "#             \"6+ ; 0+\": 0,\n",
    "#             \"0+ ; 6+\": 0,\n",
    "#             \"6+ ; 12+\": 6,\n",
    "#         }\n",
    "#     )\n",
    "#     .values\n",
    "# )"
   ]
  },
  {
   "cell_type": "code",
   "execution_count": 6,
   "metadata": {},
   "outputs": [],
   "source": [
    "database = pd.read_csv(\"database.csv\")\n",
    "\n",
    "books = database.itemid.values.copy()"
   ]
  },
  {
   "cell_type": "code",
   "execution_count": 7,
   "metadata": {},
   "outputs": [],
   "source": [
    "# readers_birthday = pd.read_csv(\n",
    "#     \"../final_data/Читатели.csv\", usecols=[\"ID читателя\", \"Дата рождения\"]\n",
    "# )\n",
    "\n",
    "# readers_birthday.rename(\n",
    "#     {\"ID читателя\": \"userid\", \"Дата рождения\": \"date\"}, axis=1, inplace=True\n",
    "# )\n",
    "\n",
    "# readers_birthday[\"date\"] = pd.to_datetime(readers_birthday[\"date\"])\n",
    "\n",
    "# readers_birthday[\"age\"] = readers_birthday.date.apply(lambda x: 2020 - x.year)"
   ]
  },
  {
   "cell_type": "code",
   "execution_count": 8,
   "metadata": {},
   "outputs": [],
   "source": [
    "readers_birthday = pd.read_csv(\"readers_birthday.csv\")\n",
    "\n",
    "algo = pickle.load(open(\"recom_model.pickle\", \"rb\"))"
   ]
  },
  {
   "cell_type": "code",
   "execution_count": 10,
   "metadata": {},
   "outputs": [],
   "source": [
    "def get_predictoins(input_iid, input_uid):\n",
    "    return algo.predict(uid=input_uid, iid=input_iid, verbose=False).est\n",
    "\n",
    "def get_books(input_uid):\n",
    "    with Pool(15) as p:\n",
    "        pred_rating = list(\n",
    "            p.map(functools.partial(get_predictoins, input_uid=input_uid), books)\n",
    "        )\n",
    "\n",
    "    pred_book = [(rating, book) for rating, book in zip(pred_rating, books)]\n",
    "\n",
    "    final_pred_books = [\n",
    "        x[1] for x in sorted(pred_book, key=lambda x: x[0], reverse=True)[:30]\n",
    "    ]\n",
    "    user_age = (readers_birthday[readers_birthday.userid == input_uid][\"age\"]).values[0]\n",
    "    df = database[database.itemid.isin(final_pred_books)]\n",
    "\n",
    "    return df[(df.age_cat <= user_age)]"
   ]
  },
  {
   "cell_type": "code",
   "execution_count": 16,
   "metadata": {},
   "outputs": [],
   "source": [
    "result = get_books(777)"
   ]
  },
  {
   "cell_type": "code",
   "execution_count": 19,
   "metadata": {},
   "outputs": [
    {
     "data": {
      "text/html": [
       "<div>\n",
       "<style scoped>\n",
       "    .dataframe tbody tr th:only-of-type {\n",
       "        vertical-align: middle;\n",
       "    }\n",
       "\n",
       "    .dataframe tbody tr th {\n",
       "        vertical-align: top;\n",
       "    }\n",
       "\n",
       "    .dataframe thead th {\n",
       "        text-align: right;\n",
       "    }\n",
       "</style>\n",
       "<table border=\"1\" class=\"dataframe\">\n",
       "  <thead>\n",
       "    <tr style=\"text-align: right;\">\n",
       "      <th></th>\n",
       "      <th>userid</th>\n",
       "      <th>itemid</th>\n",
       "      <th>doc_id</th>\n",
       "      <th>author</th>\n",
       "      <th>title</th>\n",
       "      <th>category</th>\n",
       "      <th>age</th>\n",
       "      <th>rating</th>\n",
       "      <th>age_cat</th>\n",
       "    </tr>\n",
       "  </thead>\n",
       "  <tbody>\n",
       "    <tr>\n",
       "      <th>365</th>\n",
       "      <td>479</td>\n",
       "      <td>381001176957</td>\n",
       "      <td>8264</td>\n",
       "      <td>Устинова Татьяна Витальевна</td>\n",
       "      <td>Седьмое небо</td>\n",
       "      <td>Художественная литература</td>\n",
       "      <td>0+</td>\n",
       "      <td>0.405556</td>\n",
       "      <td>0</td>\n",
       "    </tr>\n",
       "    <tr>\n",
       "      <th>14506</th>\n",
       "      <td>995</td>\n",
       "      <td>381001541557</td>\n",
       "      <td>115156</td>\n",
       "      <td>Пушкин Александр Сергеевич</td>\n",
       "      <td>Евгений Онегин; Драмы</td>\n",
       "      <td>Художественная литература</td>\n",
       "      <td>0+</td>\n",
       "      <td>0.737864</td>\n",
       "      <td>0</td>\n",
       "    </tr>\n",
       "    <tr>\n",
       "      <th>15245</th>\n",
       "      <td>7337</td>\n",
       "      <td>381000838665</td>\n",
       "      <td>141343</td>\n",
       "      <td>Твен Марк</td>\n",
       "      <td>Принц и нищий</td>\n",
       "      <td>Художественная литература</td>\n",
       "      <td>0+</td>\n",
       "      <td>1.000000</td>\n",
       "      <td>0</td>\n",
       "    </tr>\n",
       "    <tr>\n",
       "      <th>21486</th>\n",
       "      <td>16292</td>\n",
       "      <td>381008170149</td>\n",
       "      <td>145403</td>\n",
       "      <td>Матюшкина Екатерина Александровна</td>\n",
       "      <td>Детективное бюро Фу-Фу и Кис-Киса</td>\n",
       "      <td>Художественная литература</td>\n",
       "      <td>0+</td>\n",
       "      <td>0.419540</td>\n",
       "      <td>0</td>\n",
       "    </tr>\n",
       "    <tr>\n",
       "      <th>26084</th>\n",
       "      <td>4377</td>\n",
       "      <td>381013343637</td>\n",
       "      <td>227102</td>\n",
       "      <td>Севела Эфраим</td>\n",
       "      <td>Викинг</td>\n",
       "      <td>Художественная литература</td>\n",
       "      <td>0+</td>\n",
       "      <td>0.611650</td>\n",
       "      <td>0</td>\n",
       "    </tr>\n",
       "  </tbody>\n",
       "</table>\n",
       "</div>"
      ],
      "text/plain": [
       "       userid        itemid  doc_id                             author  \\\n",
       "365       479  381001176957    8264        Устинова Татьяна Витальевна   \n",
       "14506     995  381001541557  115156         Пушкин Александр Сергеевич   \n",
       "15245    7337  381000838665  141343                          Твен Марк   \n",
       "21486   16292  381008170149  145403  Матюшкина Екатерина Александровна   \n",
       "26084    4377  381013343637  227102                      Севела Эфраим   \n",
       "\n",
       "                                   title                   category age  \\\n",
       "365                         Седьмое небо  Художественная литература  0+   \n",
       "14506              Евгений Онегин; Драмы  Художественная литература  0+   \n",
       "15245                      Принц и нищий  Художественная литература  0+   \n",
       "21486  Детективное бюро Фу-Фу и Кис-Киса  Художественная литература  0+   \n",
       "26084                             Викинг  Художественная литература  0+   \n",
       "\n",
       "         rating  age_cat  \n",
       "365    0.405556        0  \n",
       "14506  0.737864        0  \n",
       "15245  1.000000        0  \n",
       "21486  0.419540        0  \n",
       "26084  0.611650        0  "
      ]
     },
     "execution_count": 19,
     "metadata": {},
     "output_type": "execute_result"
    }
   ],
   "source": [
    "result.head()"
   ]
  },
  {
   "cell_type": "code",
   "execution_count": 24,
   "metadata": {},
   "outputs": [
    {
     "name": "stdout",
     "output_type": "stream",
     "text": [
      "Основываясь на ваших предпочтениях мы рекомендуем вам следующие книги:\n",
      "1)  Устинова Татьяна Витальевна \"Седьмое небо\"\n",
      "2)  Пушкин Александр Сергеевич \"Евгений Онегин; Драмы\"\n",
      "3)  Твен Марк \"Принц и нищий\"\n",
      "4)  Матюшкина Екатерина Александровна \"Детективное бюро Фу-Фу и Кис-Киса\"\n"
     ]
    }
   ],
   "source": [
    "print(\"Основываясь на ваших предпочтениях мы рекомендуем вам следующие книги:\")\n",
    "i = 1\n",
    "for _, row in result.iterrows():\n",
    "    author = row[\"author\"]\n",
    "    title = row[\"title\"]\n",
    "    print(f\"{i}) \", row[\"author\"], '\"'+row[\"title\"]+ '\"')\n",
    "    i += 1\n",
    "    if i == 5:\n",
    "        break"
   ]
  },
  {
   "cell_type": "code",
   "execution_count": 28,
   "metadata": {},
   "outputs": [],
   "source": [
    "key_words = result[\"category\"].unique()\n",
    "\n",
    "import string\n",
    "\n",
    "table = str.maketrans(\"\", \"\", string.punctuation)\n",
    "\n",
    "with open(\"raw_dict.pickle\",\"rb\") as pickle_in:\n",
    "    cat_to_vec = pickle.load(pickle_in)\n",
    "\n",
    "request_words = [w.translate(table).lower() for w in \" \".join(key_words).lower().split()]\n",
    "\n",
    "request_input = np.array([cat_to_vec.get(key) for key in key_words if cat_to_vec.get(key) is not None])\n",
    "embed_vector = compose_embedd_vector(words=request_input, age=[1, 1, 1, 1, 1])\n",
    "age_request = user_age"
   ]
  }
 ],
 "metadata": {
  "kernelspec": {
   "display_name": "Python 3",
   "language": "python",
   "name": "python3"
  },
  "language_info": {
   "codemirror_mode": {
    "name": "ipython",
    "version": 3
   },
   "file_extension": ".py",
   "mimetype": "text/x-python",
   "name": "python",
   "nbconvert_exporter": "python",
   "pygments_lexer": "ipython3",
   "version": "3.7.4"
  }
 },
 "nbformat": 4,
 "nbformat_minor": 2
}
